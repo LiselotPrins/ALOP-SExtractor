{
 "cells": [
  {
   "cell_type": "code",
   "execution_count": 12,
   "id": "538a7094",
   "metadata": {},
   "outputs": [
    {
     "name": "stdout",
     "output_type": "stream",
     "text": [
      "[  1.     168.6689  69.422    4.47  ]\n"
     ]
    }
   ],
   "source": [
    "import numpy as np\n",
    "import matplotlib as plt\n",
    "\n",
    "path = \"C:\\\\Users\\Lisel\\ALOP\\SExtractor\\Experiment\\cat_test.cat\" #insert path to catalog\n",
    "data = np.genfromtxt(path, usecols=(1,2,3,4),skip_header=5)\n",
    "numberStars = len(data)\n",
    "colors = [\"red\", \"green\", \"blue\", \"pink\"] #first color for extension 1\n"
   ]
  },
  {
   "cell_type": "code",
   "execution_count": 15,
   "id": "e7f9ab74",
   "metadata": {},
   "outputs": [],
   "source": [
    "with open(\"table.reg\", \"w\") as f:\n",
    "    f.write(\"# Region file format: DS9 version 4.1\\n\")\n",
    "    f.write(f\"global color=green dashlist=8 3 width=1 font=\\\"helvetica 10 normal roman\\\" select=1 highlite=1 dash=0 fixed=0 edit=1 move=1 delete=1 include=1 source=1\\n\")\n",
    "    f.write(\"physical\\n\") # or 'image'?\n",
    "    for i in range(numberStars):  \n",
    "        color=colors[int(data[i][0]-1)]\n",
    "        f.write(f\"circle({data[i][1]},{data[i][2]},{data[i][3]}) # color={color}\\n\")"
   ]
  }
 ],
 "metadata": {
  "kernelspec": {
   "display_name": "Python 3 (ipykernel)",
   "language": "python",
   "name": "python3"
  },
  "language_info": {
   "codemirror_mode": {
    "name": "ipython",
    "version": 3
   },
   "file_extension": ".py",
   "mimetype": "text/x-python",
   "name": "python",
   "nbconvert_exporter": "python",
   "pygments_lexer": "ipython3",
   "version": "3.9.7"
  }
 },
 "nbformat": 4,
 "nbformat_minor": 5
}
